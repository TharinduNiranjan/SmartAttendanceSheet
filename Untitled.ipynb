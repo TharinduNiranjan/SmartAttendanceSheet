{
 "cells": [
  {
   "cell_type": "code",
   "execution_count": 2,
   "metadata": {},
   "outputs": [
    {
     "name": "stdout",
     "output_type": "stream",
     "text": [
      "2019-02-11\n"
     ]
    }
   ],
   "source": [
    "from datetime import date\n",
    "today = str(date.today())\n",
    "print(today)"
   ]
  },
  {
   "cell_type": "code",
   "execution_count": 1,
   "metadata": {},
   "outputs": [
    {
     "ename": "ModuleNotFoundError",
     "evalue": "No module named 'gtts'",
     "output_type": "error",
     "traceback": [
      "\u001b[1;31m---------------------------------------------------------------------------\u001b[0m",
      "\u001b[1;31mModuleNotFoundError\u001b[0m                       Traceback (most recent call last)",
      "\u001b[1;32m<ipython-input-1-547964220626>\u001b[0m in \u001b[0;36m<module>\u001b[1;34m\u001b[0m\n\u001b[1;32m----> 1\u001b[1;33m \u001b[1;32mfrom\u001b[0m \u001b[0mgtts\u001b[0m \u001b[1;32mimport\u001b[0m \u001b[0mgTTS\u001b[0m\u001b[1;33m\u001b[0m\u001b[0m\n\u001b[0m\u001b[0;32m      2\u001b[0m \u001b[1;32mimport\u001b[0m \u001b[0mspeech_recognition\u001b[0m \u001b[1;32mas\u001b[0m \u001b[0msr\u001b[0m\u001b[1;33m\u001b[0m\u001b[0m\n\u001b[0;32m      3\u001b[0m \u001b[1;32mimport\u001b[0m \u001b[0mos\u001b[0m\u001b[1;33m\u001b[0m\u001b[0m\n\u001b[0;32m      4\u001b[0m \u001b[1;32mimport\u001b[0m \u001b[0mwebbrowser\u001b[0m\u001b[1;33m\u001b[0m\u001b[0m\n\u001b[0;32m      5\u001b[0m \u001b[1;32mimport\u001b[0m \u001b[0msmtplib\u001b[0m\u001b[1;33m\u001b[0m\u001b[0m\n",
      "\u001b[1;31mModuleNotFoundError\u001b[0m: No module named 'gtts'"
     ]
    }
   ],
   "source": [
    "from gtts import gTTS\n",
    "import speech_recognition as sr\n",
    "import os\n",
    "import webbrowser\n",
    "import smtplib\n",
    "\n",
    "class friday:\n",
    "    def talkToMe(audio):\n",
    "        print(audio)\n",
    "        tts = gTTS(text = audio, lang = 'en')\n",
    "        tts.save('audio.mp3')\n",
    "        os.system('mpg123 audio.mp3')\n",
    "    def myCommand():\n",
    "        r = sr.Recognizer()\n",
    "        with sr.Microphone() as source:\n",
    "            print(\"I am ready to talk\")\n",
    "            r.pause_threshold = 1\n",
    "            r.adjust_for_ambient_noise(source, duration = 1)\n",
    "        try:\n",
    "            command = r.recognize_google(audio)\n",
    "            print(\"You said : \" + command + \"/n\")\n",
    "        except sr.UnknownValueError:\n",
    "            assistant(myCommand())\n",
    "        return command\n",
    "    def assistant(command):\n",
    "        if \"open gmail\" in command:\n",
    "            firefox_path = \"/etc/firefox-60.0.2/firefox/firefox\"\n",
    "            url = \"https://mail.google.com/mail/u/0/?tab=wm#inbox\"\n",
    "            webbrowser.get(firefox_path).open(url)\n",
    "        if \"Hello Buddy what's up\" in command:\n",
    "            talkToMe(\"Nice\")\n",
    "        if \"email\" in command:\n",
    "            talkToMe(\"Who is the dude\")\n",
    "            recipient = myCommand()\n",
    "            talkToMe(\"What should i say\")\n",
    "            content = myCommand()\n",
    "            mail = smtplib.SMTP(\"smtp.gmail.com\", 587)\n",
    "            mail.ehlo()\n",
    "            mail.starttls()\n",
    "            mail.login(\"username\", \"password\")\n",
    "            mail.sendmail(\"PERSON NAME\", \"emailaddress@gmail.com\", content)\n",
    "            mail.close()\n",
    "            talkToMe(\"Email send\")\n",
    "    talkToMe(\"What is next\")"
   ]
  },
  {
   "cell_type": "code",
   "execution_count": null,
   "metadata": {},
   "outputs": [],
   "source": []
  }
 ],
 "metadata": {
  "kernelspec": {
   "display_name": "Python 3",
   "language": "python",
   "name": "python3"
  },
  "language_info": {
   "codemirror_mode": {
    "name": "ipython",
    "version": 3
   },
   "file_extension": ".py",
   "mimetype": "text/x-python",
   "name": "python",
   "nbconvert_exporter": "python",
   "pygments_lexer": "ipython3",
   "version": "3.6.5"
  }
 },
 "nbformat": 4,
 "nbformat_minor": 2
}
